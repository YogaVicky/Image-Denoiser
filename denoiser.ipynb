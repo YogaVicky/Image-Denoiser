{
  "nbformat": 4,
  "nbformat_minor": 0,
  "metadata": {
    "colab": {
      "name": "denoiser.ipynb",
      "provenance": [],
      "authorship_tag": "ABX9TyOoM95lU/r3Xt0bz2zBYXeS",
      "include_colab_link": true
    },
    "kernelspec": {
      "name": "python3",
      "display_name": "Python 3"
    },
    "language_info": {
      "name": "python"
    }
  },
  "cells": [
    {
      "cell_type": "markdown",
      "metadata": {
        "id": "view-in-github",
        "colab_type": "text"
      },
      "source": [
        "<a href=\"https://colab.research.google.com/github/YogaVicky/Image-Denoiser/blob/main/denoiser.ipynb\" target=\"_parent\"><img src=\"https://colab.research.google.com/assets/colab-badge.svg\" alt=\"Open In Colab\"/></a>"
      ]
    },
    {
      "cell_type": "code",
      "metadata": {
        "id": "-P6zN_1u0s65"
      },
      "source": [
        "import keras\n",
        "from keras import layers\n",
        "from keras.datasets import mnist\n",
        "import numpy as np\n",
        "import matplotlib.pyplot as plt"
      ],
      "execution_count": 1,
      "outputs": []
    },
    {
      "cell_type": "code",
      "metadata": {
        "id": "h4Rqm3nX4NYk"
      },
      "source": [
        ""
      ],
      "execution_count": null,
      "outputs": []
    },
    {
      "cell_type": "code",
      "metadata": {
        "colab": {
          "base_uri": "https://localhost:8080/"
        },
        "id": "YFnz7tFq4JSk",
        "outputId": "0619fe33-b384-43f4-d301-c4413a4fc69f"
      },
      "source": [
        "(x_train, _), (x_test, _) = mnist.load_data()"
      ],
      "execution_count": 2,
      "outputs": [
        {
          "output_type": "stream",
          "name": "stdout",
          "text": [
            "Downloading data from https://storage.googleapis.com/tensorflow/tf-keras-datasets/mnist.npz\n",
            "11493376/11490434 [==============================] - 0s 0us/step\n",
            "11501568/11490434 [==============================] - 0s 0us/step\n"
          ]
        }
      ]
    },
    {
      "cell_type": "code",
      "metadata": {
        "colab": {
          "base_uri": "https://localhost:8080/"
        },
        "id": "WFTfUhsW4LXE",
        "outputId": "28d47556-0d77-4bbd-ddb8-7c7cbd2911fa"
      },
      "source": [
        "x_train.shape, x_test.shape"
      ],
      "execution_count": 3,
      "outputs": [
        {
          "output_type": "execute_result",
          "data": {
            "text/plain": [
              "((60000, 28, 28), (10000, 28, 28))"
            ]
          },
          "metadata": {},
          "execution_count": 3
        }
      ]
    },
    {
      "cell_type": "code",
      "metadata": {
        "id": "Zk6kqyDH4plD"
      },
      "source": [
        "dimension = x_train.shape[1]"
      ],
      "execution_count": 4,
      "outputs": []
    },
    {
      "cell_type": "code",
      "metadata": {
        "id": "9T2h0A3o4rEf"
      },
      "source": [
        "num_data = 1000\n",
        "frac_train = 0.7\n",
        "frac_test = 0.3\n",
        "x_train = x_train[0:int(frac_train*num_data)]\n",
        "x_test = x_test[0:int(frac_test*num_data)]"
      ],
      "execution_count": 5,
      "outputs": []
    },
    {
      "cell_type": "code",
      "metadata": {
        "id": "t9JcBroi4smx"
      },
      "source": [
        "norm_factor = 255.\n",
        "x_train = x_train.astype('float32')/norm_factor\n",
        "x_test = x_test.astype('float32')/norm_factor\n",
        "x_train = np.reshape(x_train, (len(x_train), dimension, dimension, 1))\n",
        "x_test = np.reshape(x_test, (len(x_test), dimension, dimension, 1))"
      ],
      "execution_count": 6,
      "outputs": []
    },
    {
      "cell_type": "code",
      "metadata": {
        "id": "_Bv5kMpF4uWH"
      },
      "source": [
        "noise_factor = 0.5\n",
        "x_train_noisy = x_train + noise_factor * np.random.normal(loc = 0.0, scale = 1.0, size = x_train.shape) \n",
        "x_test_noisy = x_test + noise_factor * np.random.normal(loc = 0.0, scale = 1.0, size = x_test.shape) \n",
        "\n",
        "x_train_noisy = np.clip(x_train_noisy, 0., 1.)\n",
        "x_test_noisy = np.clip(x_test_noisy, 0., 1.)"
      ],
      "execution_count": 7,
      "outputs": []
    },
    {
      "cell_type": "code",
      "metadata": {
        "colab": {
          "base_uri": "https://localhost:8080/",
          "height": 539
        },
        "id": "cXO4Gfu64wTE",
        "outputId": "451508b8-4471-4a78-b52d-a5c96cddc5c3"
      },
      "source": [
        "n = 3\n",
        "for i in range(n):\n",
        "    fig, axes = plt.subplots(1, 2)\n",
        "    fig.set_size_inches(5, 5)\n",
        "    axes[0].set_title('True image')\n",
        "    im0 = axes[0].imshow(x_test[i].reshape(dimension, dimension), cmap = 'Reds')\n",
        "    axes[1].set_title('Noisy image')\n",
        "    im1 = axes[1].imshow(x_test_noisy[i].reshape(dimension, dimension), cmap = 'Reds')"
      ],
      "execution_count": 8,
      "outputs": [
        {
          "output_type": "display_data",
          "data": {
            "image/png": "[encoded data removed]",
            "text/plain": [
              "<Figure size 360x360 with 2 Axes>"
            ]
          },
          "metadata": {
            "needs_background": "light"
          }
        },
        {
          "output_type": "display_data",
          "data": {
            "image/png": "[encoded data removed]",
            "text/plain": [
              "<Figure size 360x360 with 2 Axes>"
            ]
          },
          "metadata": {
            "needs_background": "light"
          }
        },
        {
          "output_type": "display_data",
          "data": {
            "image/png": "[encoded data removed]",
            "text/plain": [
              "<Figure size 360x360 with 2 Axes>"
            ]
          },
          "metadata": {
            "needs_background": "light"
          }
        }
      ]
    },
    {
      "cell_type": "code",
      "metadata": {
        "id": "TiC9cP7a4yT0"
      },
      "source": [
        "input_img = keras.Input(shape = (dimension, dimension, 1))"
      ],
      "execution_count": 9,
      "outputs": []
    },
    {
      "cell_type": "code",
      "metadata": {
        "id": "zgyBOywP45Xg"
      },
      "source": [
        "x = layers.Conv2D(filters = 32, kernel_size = (3, 3), activation = 'relu', padding = 'same')(input_img)\n",
        "x = layers.MaxPooling2D(pool_size = (2, 2), padding = 'same')(x)\n",
        "x = layers.Conv2D(filters = 32, kernel_size = (3, 3), activation = 'relu', padding = 'same')(x)\n",
        "encoded = layers.MaxPooling2D(pool_size = (2, 2), padding = 'same')(x)"
      ],
      "execution_count": 10,
      "outputs": []
    },
    {
      "cell_type": "code",
      "metadata": {
        "id": "77T6ejyQ47P2"
      },
      "source": [
        "x = layers.Conv2D(filters = 32, kernel_size = (3, 3), activation = 'relu', padding = 'same')(encoded)\n",
        "x = layers.UpSampling2D(size = (2, 2))(x)\n",
        "x = layers.Conv2D(filters = 32, kernel_size = (3, 3), activation = 'relu', padding = 'same')(x)\n",
        "x = layers.UpSampling2D(size = (2, 2))(x)\n",
        "decoded = layers.Conv2D(filters = 1, kernel_size = (3, 3), activation = 'sigmoid', padding = 'same')(x)"
      ],
      "execution_count": 11,
      "outputs": []
    },
    {
      "cell_type": "code",
      "metadata": {
        "id": "JLpcjjAS49Ob"
      },
      "source": [
        "autoencoder = keras.Model(input_img, decoded)"
      ],
      "execution_count": 12,
      "outputs": []
    },
    {
      "cell_type": "code",
      "metadata": {
        "colab": {
          "base_uri": "https://localhost:8080/"
        },
        "id": "BsG7NbJL5DWO",
        "outputId": "538f49da-2480-47b8-d167-e960440a6baf"
      },
      "source": [
        "autoencoder.summary()"
      ],
      "execution_count": 13,
      "outputs": [
        {
          "output_type": "stream",
          "name": "stdout",
          "text": [
            "Model: \"model\"\n",
            "_________________________________________________________________\n",
            " Layer (type)                Output Shape              Param #   \n",
            "=================================================================\n",
            " input_1 (InputLayer)        [(None, 28, 28, 1)]       0         \n",
            "                                                                 \n",
            " conv2d (Conv2D)             (None, 28, 28, 32)        320       \n",
            "                                                                 \n",
            " max_pooling2d (MaxPooling2D  (None, 14, 14, 32)       0         \n",
            " )                                                               \n",
            "                                                                 \n",
            " conv2d_1 (Conv2D)           (None, 14, 14, 32)        9248      \n",
            "                                                                 \n",
            " max_pooling2d_1 (MaxPooling  (None, 7, 7, 32)         0         \n",
            " 2D)                                                             \n",
            "                                                                 \n",
            " conv2d_2 (Conv2D)           (None, 7, 7, 32)          9248      \n",
            "                                                                 \n",
            " up_sampling2d (UpSampling2D  (None, 14, 14, 32)       0         \n",
            " )                                                               \n",
            "                                                                 \n",
            " conv2d_3 (Conv2D)           (None, 14, 14, 32)        9248      \n",
            "                                                                 \n",
            " up_sampling2d_1 (UpSampling  (None, 28, 28, 32)       0         \n",
            " 2D)                                                             \n",
            "                                                                 \n",
            " conv2d_4 (Conv2D)           (None, 28, 28, 1)         289       \n",
            "                                                                 \n",
            "=================================================================\n",
            "Total params: 28,353\n",
            "Trainable params: 28,353\n",
            "Non-trainable params: 0\n",
            "_________________________________________________________________\n"
          ]
        }
      ]
    },
    {
      "cell_type": "code",
      "metadata": {
        "id": "11TFtkOv5FNI"
      },
      "source": [
        "autoencoder.compile(optimizer='adam', loss='binary_crossentropy')"
      ],
      "execution_count": 14,
      "outputs": []
    },
    {
      "cell_type": "code",
      "metadata": {
        "colab": {
          "base_uri": "https://localhost:8080/"
        },
        "id": "1pY3V9IU5H2w",
        "outputId": "1f5a3166-4e8f-4004-e93c-d25012dcc931"
      },
      "source": [
        "validation_split = 0.8\n",
        "history = autoencoder.fit(x_train_noisy, x_train, epochs = 40, batch_size = 20, shuffle = True, validation_split = validation_split)"
      ],
      "execution_count": 15,
      "outputs": [
        {
          "output_type": "stream",
          "name": "stdout",
          "text": [
            "Epoch 1/40\n",
            "7/7 [==============================] - 2s 138ms/step - loss: 0.5662 - val_loss: 0.5103\n",
            "Epoch 2/40\n",
            "7/7 [==============================] - 1s 111ms/step - loss: 0.4980 - val_loss: 0.4657\n",
            "Epoch 3/40\n",
            "7/7 [==============================] - 1s 110ms/step - loss: 0.4541 - val_loss: 0.4254\n",
            "Epoch 4/40\n",
            "7/7 [==============================] - 1s 110ms/step - loss: 0.4010 - val_loss: 0.3624\n",
            "Epoch 5/40\n",
            "7/7 [==============================] - 1s 112ms/step - loss: 0.3304 - val_loss: 0.2879\n",
            "Epoch 6/40\n",
            "7/7 [==============================] - 1s 110ms/step - loss: 0.2606 - val_loss: 0.2337\n",
            "Epoch 7/40\n",
            "7/7 [==============================] - 1s 110ms/step - loss: 0.2198 - val_loss: 0.2091\n",
            "Epoch 8/40\n",
            "7/7 [==============================] - 1s 110ms/step - loss: 0.2055 - val_loss: 0.2000\n",
            "Epoch 9/40\n",
            "7/7 [==============================] - 1s 111ms/step - loss: 0.1957 - val_loss: 0.1969\n",
            "Epoch 10/40\n",
            "7/7 [==============================] - 1s 111ms/step - loss: 0.1869 - val_loss: 0.1878\n",
            "Epoch 11/40\n",
            "7/7 [==============================] - 1s 109ms/step - loss: 0.1801 - val_loss: 0.1818\n",
            "Epoch 12/40\n",
            "7/7 [==============================] - 1s 106ms/step - loss: 0.1741 - val_loss: 0.1781\n",
            "Epoch 13/40\n",
            "7/7 [==============================] - 1s 110ms/step - loss: 0.1694 - val_loss: 0.1727\n",
            "Epoch 14/40\n",
            "7/7 [==============================] - 1s 111ms/step - loss: 0.1654 - val_loss: 0.1672\n",
            "Epoch 15/40\n",
            "7/7 [==============================] - 1s 110ms/step - loss: 0.1614 - val_loss: 0.1648\n",
            "Epoch 16/40\n",
            "7/7 [==============================] - 1s 110ms/step - loss: 0.1585 - val_loss: 0.1609\n",
            "Epoch 17/40\n",
            "7/7 [==============================] - 1s 108ms/step - loss: 0.1553 - val_loss: 0.1584\n",
            "Epoch 18/40\n",
            "7/7 [==============================] - 1s 111ms/step - loss: 0.1522 - val_loss: 0.1559\n",
            "Epoch 19/40\n",
            "7/7 [==============================] - 1s 109ms/step - loss: 0.1496 - val_loss: 0.1538\n",
            "Epoch 20/40\n",
            "7/7 [==============================] - 1s 108ms/step - loss: 0.1472 - val_loss: 0.1547\n",
            "Epoch 21/40\n",
            "7/7 [==============================] - 1s 112ms/step - loss: 0.1457 - val_loss: 0.1493\n",
            "Epoch 22/40\n",
            "7/7 [==============================] - 1s 109ms/step - loss: 0.1429 - val_loss: 0.1474\n",
            "Epoch 23/40\n",
            "7/7 [==============================] - 1s 107ms/step - loss: 0.1405 - val_loss: 0.1488\n",
            "Epoch 24/40\n",
            "7/7 [==============================] - 1s 111ms/step - loss: 0.1400 - val_loss: 0.1475\n",
            "Epoch 25/40\n",
            "7/7 [==============================] - 1s 107ms/step - loss: 0.1383 - val_loss: 0.1440\n",
            "Epoch 26/40\n",
            "7/7 [==============================] - 1s 112ms/step - loss: 0.1358 - val_loss: 0.1413\n",
            "Epoch 27/40\n",
            "7/7 [==============================] - 1s 107ms/step - loss: 0.1337 - val_loss: 0.1417\n",
            "Epoch 28/40\n",
            "7/7 [==============================] - 1s 113ms/step - loss: 0.1323 - val_loss: 0.1386\n",
            "Epoch 29/40\n",
            "7/7 [==============================] - 1s 109ms/step - loss: 0.1320 - val_loss: 0.1438\n",
            "Epoch 30/40\n",
            "7/7 [==============================] - 1s 109ms/step - loss: 0.1310 - val_loss: 0.1400\n",
            "Epoch 31/40\n",
            "7/7 [==============================] - 1s 107ms/step - loss: 0.1298 - val_loss: 0.1358\n",
            "Epoch 32/40\n",
            "7/7 [==============================] - 1s 111ms/step - loss: 0.1278 - val_loss: 0.1376\n",
            "Epoch 33/40\n",
            "7/7 [==============================] - 1s 108ms/step - loss: 0.1268 - val_loss: 0.1344\n",
            "Epoch 34/40\n",
            "7/7 [==============================] - 1s 112ms/step - loss: 0.1253 - val_loss: 0.1338\n",
            "Epoch 35/40\n",
            "7/7 [==============================] - 1s 113ms/step - loss: 0.1241 - val_loss: 0.1349\n",
            "Epoch 36/40\n",
            "7/7 [==============================] - 1s 115ms/step - loss: 0.1245 - val_loss: 0.1331\n",
            "Epoch 37/40\n",
            "7/7 [==============================] - 1s 109ms/step - loss: 0.1226 - val_loss: 0.1319\n",
            "Epoch 38/40\n",
            "7/7 [==============================] - 1s 110ms/step - loss: 0.1218 - val_loss: 0.1314\n",
            "Epoch 39/40\n",
            "7/7 [==============================] - 1s 112ms/step - loss: 0.1207 - val_loss: 0.1312\n",
            "Epoch 40/40\n",
            "7/7 [==============================] - 1s 111ms/step - loss: 0.1202 - val_loss: 0.1321\n"
          ]
        }
      ]
    },
    {
      "cell_type": "code",
      "metadata": {
        "colab": {
          "base_uri": "https://localhost:8080/"
        },
        "id": "iTxczZ5W5JzR",
        "outputId": "ddf5bdae-80ad-44b2-a2ca-96d0918a0cce"
      },
      "source": [
        "history.history.keys()"
      ],
      "execution_count": 16,
      "outputs": [
        {
          "output_type": "execute_result",
          "data": {
            "text/plain": [
              "dict_keys(['loss', 'val_loss'])"
            ]
          },
          "metadata": {},
          "execution_count": 16
        }
      ]
    },
    {
      "cell_type": "code",
      "metadata": {
        "id": "pNqrtbvi5MXx"
      },
      "source": [
        "train_loss = history.history['loss']\n",
        "train_val_loss = history.history['val_loss']\n",
        "epochs = range(1, len(train_loss) + 1)"
      ],
      "execution_count": 17,
      "outputs": []
    },
    {
      "cell_type": "code",
      "metadata": {
        "colab": {
          "base_uri": "https://localhost:8080/",
          "height": 385
        },
        "id": "nKLQrKGb5Oe4",
        "outputId": "052358b7-b2af-4347-82da-d42c22cd4f0e"
      },
      "source": [
        "plt.figure(dpi = 100)\n",
        "plt.plot(epochs, train_loss, label = 'Loss')\n",
        "plt.plot(epochs, train_val_loss, 'o', label = 'Val loss')\n",
        "plt.title('Training and validation metrics')\n",
        "plt.legend()\n",
        "plt.savefig('history.png')"
      ],
      "execution_count": 18,
      "outputs": [
        {
          "output_type": "display_data",
          "data": {
            "image/png": "[encoded data removed]",
            "text/plain": [
              "<Figure size 600x400 with 1 Axes>"
            ]
          },
          "metadata": {
            "needs_background": "light"
          }
        }
      ]
    },
    {
      "cell_type": "code",
      "metadata": {
        "id": "qgWt8SGl5QUV"
      },
      "source": [
        "all_denoised_images = autoencoder.predict(x_test_noisy)"
      ],
      "execution_count": 19,
      "outputs": []
    },
    {
      "cell_type": "code",
      "metadata": {
        "colab": {
          "base_uri": "https://localhost:8080/"
        },
        "id": "Gldy-Nfq5UUq",
        "outputId": "5b6c2a09-b036-47c8-d251-21d4583ecf13"
      },
      "source": [
        "test_loss  = autoencoder.evaluate(x_test_noisy, x_test, batch_size = 20)\n",
        "test_loss"
      ],
      "execution_count": 20,
      "outputs": [
        {
          "output_type": "stream",
          "name": "stdout",
          "text": [
            "15/15 [==============================] - 0s 16ms/step - loss: 0.1285\n"
          ]
        },
        {
          "output_type": "execute_result",
          "data": {
            "text/plain": [
              "0.12847693264484406"
            ]
          },
          "metadata": {},
          "execution_count": 20
        }
      ]
    },
    {
      "cell_type": "code",
      "metadata": {
        "colab": {
          "base_uri": "https://localhost:8080/",
          "height": 485
        },
        "id": "YxvQr_kf5Waq",
        "outputId": "55056850-029a-42c8-c367-d8b94871513f"
      },
      "source": [
        "n = 3\n",
        "for i in range(n):\n",
        "    fig, axes = plt.subplots(1, 3)\n",
        "    fig.set_size_inches(8, 2)\n",
        "    axes[0].set_title('Noisy image')\n",
        "    im0 = axes[0].imshow(x_test_noisy[i].reshape(dimension, dimension), cmap = 'Reds')\n",
        "    axes[1].set_title('Target image')\n",
        "    im1 = axes[1].imshow(x_test[i].reshape(dimension, dimension), cmap = 'Reds')\n",
        "    axes[2].set_title('Denoised image')\n",
        "    im2 = axes[2].imshow(all_denoised_images[i].reshape(dimension, dimension), cmap = 'Reds')\n",
        "    plt.savefig(f'comparison-{i}.png')"
      ],
      "execution_count": 21,
      "outputs": [
        {
          "output_type": "display_data",
          "data": {
            "image/png": "[encoded data removed]",
            "text/plain": [
              "<Figure size 576x144 with 3 Axes>"
            ]
          },
          "metadata": {
            "needs_background": "light"
          }
        },
        {
          "output_type": "display_data",
          "data": {
            "image/png": "[encoded data removed]",
            "text/plain": [
              "<Figure size 576x144 with 3 Axes>"
            ]
          },
          "metadata": {
            "needs_background": "light"
          }
        },
        {
          "output_type": "display_data",
          "data": {
            "image/png": "[encoded data removed]",
            "text/plain": [
              "<Figure size 576x144 with 3 Axes>"
            ]
          },
          "metadata": {
            "needs_background": "light"
          }
        }
      ]
    },
    {
      "cell_type": "code",
      "metadata": {
        "id": "zIJS6ece5YjW"
      },
      "source": [
        ""
      ],
      "execution_count": null,
      "outputs": []
    }
  ]
}